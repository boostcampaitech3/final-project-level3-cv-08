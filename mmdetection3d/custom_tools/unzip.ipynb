{
 "cells": [
  {
   "cell_type": "code",
   "execution_count": 10,
   "metadata": {},
   "outputs": [],
   "source": [
    "import zipfile\n",
    "\n",
    "file = zipfile.ZipFile('/opt/ml/test_datasets/2011_10_03_drive_0047_sync.zip')\n",
    "file.extractall('/opt/ml/kitti_0047/')"
   ]
  },
  {
   "cell_type": "code",
   "execution_count": 23,
   "metadata": {},
   "outputs": [],
   "source": [
    "import glob\n",
    "import os\n",
    "img_path = '/opt/ml/kitti_0106/testing/image_2'\n",
    "velo_path = '/opt/ml/kitti_0106/testing/velodyne'\n",
    "oxt_path = '/opt/ml/kitti_0106/oxts/data'\n",
    "imgs = sorted(glob.glob(os.path.join(img_path, '*.*')))\n",
    "velodyne = sorted(glob.glob(os.path.join(velo_path, '*.*')))\n",
    "oxts = sorted(glob.glob(os.path.join(oxt_path, '*.txt')))\n",
    "with open('/opt/ml/kitti_0106/ImageSets/test.txt', 'w') as f:\n",
    "    for img, velo, oxt in zip(imgs, velodyne, oxts):\n",
    "        img_name = img.split('/')[-1].split('.')[0]\n",
    "        velo_name = velo.split('/')[-1].split('.')[0]\n",
    "        oxt_name = oxt.split('/')[-1].split('.')[0]\n",
    "        split_img_name = img_name[-3:]\n",
    "        new_img_name = split_img_name.zfill(6)\n",
    "        print(\"%s\"%(new_img_name), file=f)\n",
    "\n",
    "        new_img = img.replace(img_name, new_img_name)\n",
    "        new_velo = velo.replace(velo_name, new_img_name)\n",
    "        new_oxt = oxt.replace(oxt_name, new_img_name)\n",
    "        os.rename(img, new_img)\n",
    "        os.rename(velo, new_velo)\n",
    "        os.rename(oxt, new_oxt)\n",
    "        \n",
    "        \n",
    "    \n",
    "        \n",
    "    "
   ]
  },
  {
   "cell_type": "code",
   "execution_count": null,
   "metadata": {},
   "outputs": [],
   "source": []
  }
 ],
 "metadata": {
  "interpreter": {
   "hash": "bd5eb279d10053843772e5b13836afa1489cd82e3492b360393a155ea89d875e"
  },
  "kernelspec": {
   "display_name": "Python 3.7.13 ('test')",
   "language": "python",
   "name": "python3"
  },
  "language_info": {
   "codemirror_mode": {
    "name": "ipython",
    "version": 3
   },
   "file_extension": ".py",
   "mimetype": "text/x-python",
   "name": "python",
   "nbconvert_exporter": "python",
   "pygments_lexer": "ipython3",
   "version": "3.7.13"
  },
  "orig_nbformat": 4
 },
 "nbformat": 4,
 "nbformat_minor": 2
}
