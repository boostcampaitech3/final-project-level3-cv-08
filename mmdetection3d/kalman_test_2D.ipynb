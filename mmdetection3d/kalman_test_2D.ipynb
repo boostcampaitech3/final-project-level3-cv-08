{
 "cells": [
  {
   "cell_type": "code",
   "execution_count": 1,
   "metadata": {},
   "outputs": [],
   "source": [
    "import numpy as np"
   ]
  },
  {
   "cell_type": "code",
   "execution_count": 7,
   "metadata": {},
   "outputs": [],
   "source": [
    "x = np.array([1, 1, 1, 1, 0, 0, 0]).reshape(-1, 1)\n",
    "# (x,y,s,r,dx,dy,ds)\n",
    "P = np.array([[10,0,0,0,10,0,0],\n",
    "              [0,10,0,0,0,10,0],\n",
    "              [0,0,10,0,0,0,10],\n",
    "              [0,0,0,10,0,0,0],  \n",
    "              [0,0,0,0,100000,0,0],\n",
    "              [0,0,0,0,0,100000,0],\n",
    "              [0,0,0,0,0,0,100000]])"
   ]
  },
  {
   "cell_type": "markdown",
   "metadata": {},
   "source": [
    "### predict"
   ]
  },
  {
   "cell_type": "code",
   "execution_count": 14,
   "metadata": {},
   "outputs": [
    {
     "name": "stdout",
     "output_type": "stream",
     "text": [
      "[[1.56490884]\n",
      " [1.56490884]\n",
      " [2.44378511]\n",
      " [1.        ]\n",
      " [0.13019273]\n",
      " [0.13019273]\n",
      " [0.34713846]]\n",
      "[[ 2.90676376  0.          0.          0.          1.73134458  0.\n",
      "   0.        ]\n",
      " [ 0.          2.90676376  0.          0.          0.          1.73134458\n",
      "   0.        ]\n",
      " [ 0.          0.         15.76185951  0.          0.          0.\n",
      "   5.85823964]\n",
      " [ 0.          0.          0.          4.26220115  0.          0.\n",
      "   0.        ]\n",
      " [ 0.54690754  0.          0.          0.          0.20789705  0.\n",
      "   0.        ]\n",
      " [ 0.          0.54690754  0.          0.          0.          0.20789705\n",
      "   0.        ]\n",
      " [ 0.          0.          4.51697951  0.          0.          0.\n",
      "   1.68204309]]\n"
     ]
    }
   ],
   "source": [
    "F = np.array([[1,0,0,0,1,0,0],\n",
    "              [0,1,0,0,0,1,0],\n",
    "              [0,0,1,0,0,0,1],\n",
    "              [0,0,0,1,0,0,0],  \n",
    "              [0,0,0,0,1,0,0],\n",
    "              [0,0,0,0,0,1,0],\n",
    "              [0,0,0,0,0,0,1]])\n",
    "Q = np.array([[1,0,0,0,1,0,0],\n",
    "              [0,1,0,0,0,1,0],\n",
    "              [0,0,1,0,0,0,1],\n",
    "              [0,0,0,1,0,0,0],  \n",
    "              [0,0,0,0,0.01,0,0],\n",
    "              [0,0,0,0,0,0.01,0],\n",
    "              [0,0,0,0,0,0,0.0001]])\n",
    "\n",
    "x = np.dot(F, x)\n",
    "P = np.dot(np.dot(F, P), F.T) + Q\n",
    "print(x)\n",
    "print(P)"
   ]
  },
  {
   "cell_type": "markdown",
   "metadata": {},
   "source": [
    "### update"
   ]
  },
  {
   "cell_type": "code",
   "execution_count": 13,
   "metadata": {},
   "outputs": [
    {
     "name": "stdout",
     "output_type": "stream",
     "text": [
      "[[1.43471611]\n",
      " [1.43471611]\n",
      " [2.09664665]\n",
      " [1.        ]\n",
      " [0.13019273]\n",
      " [0.13019273]\n",
      " [0.34713846]]\n",
      "[[0.8264087  0.         0.         0.         0.53344753 0.\n",
      "  0.        ]\n",
      " [0.         0.8264087  0.         0.         0.         0.53344753\n",
      "  0.        ]\n",
      " [0.         0.         7.06858344 0.         0.         0.\n",
      "  3.17629656]\n",
      " [0.         0.         0.         3.26220115 0.         0.\n",
      "  0.        ]\n",
      " [0.34901049 0.         0.         0.         0.19789705 0.\n",
      "  0.        ]\n",
      " [0.         0.34901049 0.         0.         0.         0.19789705\n",
      "  0.        ]\n",
      " [0.         0.         2.83503643 0.         0.         0.\n",
      "  1.68194309]]\n"
     ]
    }
   ],
   "source": [
    "from copy import deepcopy\n",
    "R = np.array([[1,0,0,0], \n",
    "              [0,1,0,0], \n",
    "              [0,0,10,0], \n",
    "              [0,0,0,10]])\n",
    "H = np.array([[1,0,0,0,0,0,0],\n",
    "              [0,1,0,0,0,0,0],\n",
    "              [0,0,1,0,0,0,0],\n",
    "              [0,0,0,1,0,0,0]])\n",
    "_I = np.eye(7)\n",
    "\n",
    "z = np.array([1.4, 1.4, 1.4*1.4, 1]).reshape(-1, 1)\n",
    "\n",
    "y = z - np.dot(H, x)\n",
    "PHT = np.dot(P, H.T)\n",
    "S = np.dot(H, PHT) + R\n",
    "SI = np.linalg.inv(S)\n",
    "K = np.dot(PHT, SI)\n",
    "x = x + np.dot(K, y)\n",
    "I_KH = _I - np.dot(K, H)\n",
    "P = np.dot(np.dot(I_KH, P), I_KH.T) + np.dot(np.dot(K, R), K.T)\n",
    "\n",
    "z = deepcopy(z)\n",
    "x = x.copy()\n",
    "P = P.copy()\n",
    "\n",
    "print(x)\n",
    "print(P)"
   ]
  },
  {
   "cell_type": "code",
   "execution_count": null,
   "metadata": {},
   "outputs": [],
   "source": []
  }
 ],
 "metadata": {
  "interpreter": {
   "hash": "bd5eb279d10053843772e5b13836afa1489cd82e3492b360393a155ea89d875e"
  },
  "kernelspec": {
   "display_name": "Python 3.7.13 ('test')",
   "language": "python",
   "name": "python3"
  },
  "language_info": {
   "codemirror_mode": {
    "name": "ipython",
    "version": 3
   },
   "file_extension": ".py",
   "mimetype": "text/x-python",
   "name": "python",
   "nbconvert_exporter": "python",
   "pygments_lexer": "ipython3",
   "version": "3.7.13"
  },
  "orig_nbformat": 4
 },
 "nbformat": 4,
 "nbformat_minor": 2
}
