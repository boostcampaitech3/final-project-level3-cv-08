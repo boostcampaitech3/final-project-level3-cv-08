{
 "cells": [
  {
   "cell_type": "code",
   "execution_count": 10,
   "metadata": {},
   "outputs": [
    {
     "name": "stderr",
     "output_type": "stream",
     "text": [
      "100%|██████████| 465/465 [00:35<00:00, 13.03it/s]\n"
     ]
    }
   ],
   "source": [
    "from random import betavariate\n",
    "# !python visualization/img_to_video.py\n",
    "import cv2\n",
    "import glob\n",
    "import os\n",
    "from datetime import datetime\n",
    "from PIL import Image\n",
    "import numpy as np\n",
    "from tqdm import tqdm\n",
    "\n",
    "'''\n",
    "\tThis code is converting images to video.\n",
    "'''\n",
    "# Write your folder path here，example：/home/youname/data/img/\n",
    "# Note that the last folder should have a /\n",
    "\n",
    "now = datetime.now()\n",
    "img_root = '/opt/ml/images'\n",
    "base_path = os.path.join('/opt/ml/output_video', str(now.date()) + ' ' +  str(now.time()))\n",
    "if not os.path.exists(base_path):\n",
    "        os.makedirs(base_path)\n",
    "\n",
    "video_save_path = os.path.join(base_path, 'output.avi')\n",
    "fps = 15\n",
    "fourcc = cv2.VideoWriter_fourcc(*'MJPG')\n",
    "videoWriter = cv2.VideoWriter(video_save_path,fourcc,fps,(2080,640))\n",
    "\n",
    "images_2D = sorted(glob.glob(os.path.join(img_root, '2D', '*.png')))\n",
    "images_3D = sorted(glob.glob(os.path.join(img_root, '3D', '*.png')))\n",
    "for (img_2d, img_3d) in tqdm(zip(images_2D, images_3D), total=len(images_2D)):  \n",
    "    # Here 297 is the number of frames in the dataset. You need to make the appropriate changes\n",
    "    frame_2d = np.array(Image.open(img_2d).resize((1280, 640)))\n",
    "    frame_3d = np.array(Image.open(img_3d).resize((800, 640)))\n",
    "    concat_frame = np.concatenate([frame_2d, frame_3d], axis=1)\n",
    "\n",
    "    videoWriter.write(concat_frame)\n",
    "videoWriter.release()\n",
    "#videoWriter_bev.release()"
   ]
  },
  {
   "cell_type": "code",
   "execution_count": null,
   "metadata": {},
   "outputs": [],
   "source": []
  }
 ],
 "metadata": {
  "interpreter": {
   "hash": "bd5eb279d10053843772e5b13836afa1489cd82e3492b360393a155ea89d875e"
  },
  "kernelspec": {
   "display_name": "Python 3.7.13 ('test')",
   "language": "python",
   "name": "python3"
  },
  "language_info": {
   "codemirror_mode": {
    "name": "ipython",
    "version": 3
   },
   "file_extension": ".py",
   "mimetype": "text/x-python",
   "name": "python",
   "nbconvert_exporter": "python",
   "pygments_lexer": "ipython3",
   "version": "3.7.13"
  },
  "orig_nbformat": 4
 },
 "nbformat": 4,
 "nbformat_minor": 2
}
